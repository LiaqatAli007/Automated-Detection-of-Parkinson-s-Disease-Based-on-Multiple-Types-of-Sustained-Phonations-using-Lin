{
 "cells": [
  {
   "cell_type": "code",
   "execution_count": 2,
   "metadata": {
    "collapsed": true
   },
   "outputs": [],
   "source": [
    "#from keras.models import Sequential\n",
    "#from keras.layers import Dense\n",
    "import numpy\n",
    "#from keras.callbacks import ModelCheckpoint\n",
    "import matplotlib.pyplot as plt\n",
    "\n",
    "from scipy.stats import zscore\n",
    "from sklearn import metrics\n",
    "from sklearn.model_selection import KFold\n",
    "#from keras.callbacks import EarlyStopping\n",
    "\n",
    "#from keras.models import load_model\n",
    "import math\n",
    "\n",
    "from sklearn.linear_model import LogisticRegression\n",
    "from sklearn.tree import DecisionTreeClassifier\n",
    "from sklearn.neighbors import KNeighborsClassifier\n",
    "from sklearn.discriminant_analysis import LinearDiscriminantAnalysis as LDA\n",
    "from sklearn.naive_bayes import GaussianNB\n",
    "from sklearn.svm import SVC\n",
    "from sklearn.ensemble import RandomForestClassifier\n",
    "from sklearn.svm import LinearSVC\n",
    "\n",
    "from sklearn.neural_network import MLPClassifier\n",
    "from sklearn.ensemble import AdaBoostClassifier\n",
    "from scipy.stats import kruskal\n",
    "\n",
    "from sklearn.feature_selection import SelectKBest\n",
    "from sklearn.feature_selection import chi2\n",
    "from sklearn.model_selection import KFold\n",
    "from sklearn.neural_network import MLPClassifier\n",
    "from sklearn.svm import LinearSVC\n",
    "import math\n",
    "from sklearn.metrics import accuracy_score\n",
    "# fix random seed for reproducibility\n",
    "numpy.random.seed(7)\n",
    "\n",
    "import warnings\n",
    "warnings.filterwarnings(\"ignore\")\n",
    "global Best_Acc\n",
    "Best_Acc=0"
   ]
  },
  {
   "cell_type": "code",
   "execution_count": 3,
   "metadata": {
    "collapsed": false
   },
   "outputs": [
    {
     "name": "stdout",
     "output_type": "stream",
     "text": [
      "X_with contains 26 input features and class label but not with patient id (1040, 27)\n",
      "X contains 26 input features only and there is no output label (1040, 26)\n",
      "[1. 1. 1. ... 0. 0. 0.]\n"
     ]
    }
   ],
   "source": [
    "#Importing the Train Data \n",
    "import pandas as pd\n",
    "df = pd.read_csv(\"F:\\Parkinsons Disease PD/train_data.txt\")\n",
    "X_first = numpy.array(df)\n",
    "X_train = numpy.delete(X_first, 27, 1) #Removing UPDRS Column\n",
    "X_withlabels = numpy.delete(X_train, 0,1) #Removing Subject ID column\n",
    "print(\"X_with contains 26 input features and class label but not with patient id\", X_withlabels.shape)               \n",
    "X = numpy.delete(X_withlabels, 26, 1) #Removing Label Column\n",
    "print(\"X contains 26 input features only and there is no output label\", X.shape)\n",
    "Y = X_withlabels[: ,26]\n",
    "print(Y)"
   ]
  },
  {
   "cell_type": "code",
   "execution_count": 4,
   "metadata": {
    "collapsed": false
   },
   "outputs": [
    {
     "name": "stdout",
     "output_type": "stream",
     "text": [
      "(1040, 26)\n",
      "(1040,)\n",
      "[1. 1. 1. ... 0. 0. 0.]\n"
     ]
    }
   ],
   "source": [
    "print(X.shape)\n",
    "print(Y.shape)\n",
    "print(Y)"
   ]
  },
  {
   "cell_type": "code",
   "execution_count": 5,
   "metadata": {
    "collapsed": false
   },
   "outputs": [
    {
     "name": "stdout",
     "output_type": "stream",
     "text": [
      "(80,)\n",
      "(80, 27)\n",
      "(80, 26)\n",
      "(80,)\n"
     ]
    }
   ],
   "source": [
    "#(Considering Training Database of the Dataset)\n",
    "i=2\n",
    "indices = numpy.array(range(0, 2))\n",
    "lb = 26\n",
    "ub = 28\n",
    "while i<=40:\n",
    "    indices = numpy.append(indices, range(lb, ub))    #Indices will hold all indices of ist three samples in each subject\n",
    "    i = i+1\n",
    "    lb = lb+26\n",
    "    ub = ub+26\n",
    "print(indices.shape)         #Thus we get 40x3=120 indices of 120samples. Now extract those samples from X and Y to get a new Training Set\n",
    "#print(indices)\n",
    "X_train_withlabels = X_withlabels[[indices]]\n",
    "print(X_train_withlabels.shape)\n",
    "Y_vowel = X_train_withlabels[:, 26]\n",
    "X_vowel = numpy.delete(X_train_withlabels, 26, 1)\n",
    "print(X_vowel.shape)\n",
    "print(Y_vowel.shape)"
   ]
  },
  {
   "cell_type": "code",
   "execution_count": 6,
   "metadata": {
    "collapsed": false
   },
   "outputs": [
    {
     "name": "stdout",
     "output_type": "stream",
     "text": [
      "[1. 1. 1. ... 0. 0. 0.]\n"
     ]
    }
   ],
   "source": [
    "print(Y)"
   ]
  },
  {
   "cell_type": "markdown",
   "metadata": {},
   "source": [
    "# Seperating X for PD and Healthy gropugs of Training Database"
   ]
  },
  {
   "cell_type": "code",
   "execution_count": 7,
   "metadata": {
    "collapsed": false
   },
   "outputs": [
    {
     "name": "stdout",
     "output_type": "stream",
     "text": [
      "(40, 26)\n",
      "(40, 26)\n"
     ]
    }
   ],
   "source": [
    "X_PD_Train = X_vowel[range(0, 40)]\n",
    "X_H_Train = X_vowel[range(40, 80)]\n",
    "print(X_PD_Train.shape)\n",
    "print(X_H_Train.shape)"
   ]
  },
  {
   "cell_type": "markdown",
   "metadata": {},
   "source": [
    "# Mean and Std of Each Feature of PD group (Training Database)"
   ]
  },
  {
   "cell_type": "code",
   "execution_count": 8,
   "metadata": {
    "collapsed": false
   },
   "outputs": [
    {
     "name": "stdout",
     "output_type": "stream",
     "text": [
      "feautre no = 0    and mean ==== 0.7936249999999999   and std === 0.6625059881804843\n",
      "feautre no = 1    and mean ==== 5.0973275e-05   and std === 4.2999924737717566e-05\n",
      "feautre no = 2    and mean ==== 0.42140000000000005   and std === 0.4162117129538764\n",
      "feautre no = 3    and mean ==== 0.42917500000000003   and std === 0.3728058400494821\n",
      "feautre no = 4    and mean ==== 1.2641749999999998   and std === 1.2487681908084463\n",
      "feautre no = 5    and mean ==== 7.185275   and std === 3.89568327118299\n",
      "feautre no = 6    and mean ==== 0.6819   and std === 0.340339815478589\n",
      "feautre no = 7    and mean ==== 3.531325   and std === 2.0980747768787937\n",
      "feautre no = 8    and mean ==== 4.344125   and std === 2.5052980879278617\n",
      "feautre no = 9    and mean ==== 6.2353250000000005   and std === 3.388343130406807\n",
      "feautre no = 10    and mean ==== 10.594325000000001   and std === 6.294195796078718\n",
      "feautre no = 11    and mean ==== 0.9478628   and std === 0.05192140985768782\n",
      "feautre no = 12    and mean ==== 0.06619159999999999   and std === 0.0777376494546883\n",
      "feautre no = 13    and mean ==== 16.3186   and std === 5.012458013789243\n",
      "feautre no = 14    and mean ==== 166.17374999999998   and std === 44.642436066902754\n",
      "feautre no = 15    and mean ==== 166.32887499999998   and std === 44.58290028205181\n",
      "feautre no = 16    and mean ==== 6.632975   and std === 4.571135758690065\n",
      "feautre no = 17    and mean ==== 149.118525   and std === 45.760672424029956\n",
      "feautre no = 18    and mean ==== 181.992325   and std === 48.993937930313116\n",
      "feautre no = 19    and mean ==== 390.7   and std === 350.8926616502545\n",
      "feautre no = 20    and mean ==== 389.325   and std === 350.69376865721466\n",
      "feautre no = 21    and mean ==== 0.0064380802   and std === 0.0016495963786266963\n",
      "feautre no = 22    and mean ==== 0.00027752775   and std === 0.00019225227616334614\n",
      "feautre no = 23    and mean ==== 0.9565999999999999   and std === 1.908804505443132\n",
      "feautre no = 24    and mean ==== 0.175   and std === 0.4943429983321297\n",
      "feautre no = 25    and mean ==== 0.07335   and std === 0.2071398742396065\n"
     ]
    }
   ],
   "source": [
    "from scipy import stats\n",
    "J = range(0, 26)\n",
    "for j in J:\n",
    "    mean_f = numpy.mean(X_PD_Train[:, j])\n",
    "    std_d = numpy.std(X_PD_Train[:, j])\n",
    "    print(\"feautre no =\", j, \"   and mean ====\", mean_f, \"  and std ===\", std_d)"
   ]
  },
  {
   "cell_type": "markdown",
   "metadata": {},
   "source": [
    "# Mean and Std of Each Feature of H group (Training Database)"
   ]
  },
  {
   "cell_type": "code",
   "execution_count": 9,
   "metadata": {
    "collapsed": false
   },
   "outputs": [
    {
     "name": "stdout",
     "output_type": "stream",
     "text": [
      "feautre no = 0    and mean ==== 0.7727499999999999   and std === 0.7559899387558012\n",
      "feautre no = 1    and mean ==== 5.020867499999999e-05   and std === 5.203689981560561e-05\n",
      "feautre no = 2    and mean ==== 0.392325   and std === 0.4666082611516859\n",
      "feautre no = 3    and mean ==== 0.36825   and std === 0.3403663283875184\n",
      "feautre no = 4    and mean ==== 1.1768750000000001   and std === 1.399809668981823\n",
      "feautre no = 5    and mean ==== 6.853425   and std === 5.480496190526456\n",
      "feautre no = 6    and mean ==== 0.6283749999999999   and std === 0.45200042519338407\n",
      "feautre no = 7    and mean ==== 3.5422250000000006   and std === 3.092133498795775\n",
      "feautre no = 8    and mean ==== 4.363325   and std === 4.0666197288872485\n",
      "feautre no = 9    and mean ==== 5.3486   and std === 3.787156834618815\n",
      "feautre no = 10    and mean ==== 10.62675   and std === 9.276505648006689\n",
      "feautre no = 11    and mean ==== 0.937588725   and std === 0.08978042436243758\n",
      "feautre no = 12    and mean ==== 0.092647175   and std === 0.15182424284693266\n",
      "feautre no = 13    and mean ==== 17.443374999999996   and std === 5.897150950618018\n",
      "feautre no = 14    and mean ==== 166.73090000000002   and std === 46.41515659340168\n",
      "feautre no = 15    and mean ==== 169.8171   and std === 47.14170424942229\n",
      "feautre no = 16    and mean ==== 14.226375   and std === 23.80014423978088\n",
      "feautre no = 17    and mean ==== 147.807325   and std === 45.37756447595414\n",
      "feautre no = 18    and mean ==== 227.51597499999997   and std === 108.99576745600892\n",
      "feautre no = 19    and mean ==== 321.425   and std === 205.09081982136595\n",
      "feautre no = 20    and mean ==== 318.3   and std === 205.04953060175487\n",
      "feautre no = 21    and mean ==== 0.006369826299999999   and std === 0.0016750576018480109\n",
      "feautre no = 22    and mean ==== 0.00040773367500000003   and std === 0.0004215731771764178\n",
      "feautre no = 23    and mean ==== 3.383925   and std === 6.377712428400562\n",
      "feautre no = 24    and mean ==== 0.25   and std === 0.5361902647381804\n",
      "feautre no = 25    and mean ==== 0.961025   and std === 3.3756745287979113\n"
     ]
    }
   ],
   "source": [
    "from scipy import stats\n",
    "J = range(0, 26)\n",
    "for j in J:\n",
    "    mean_f = numpy.mean(X_H_Train[:, j])\n",
    "    std_d = numpy.std(X_H_Train[:, j])\n",
    "    print(\"feautre no =\", j, \"   and mean ====\", mean_f, \"  and std ===\", std_d)"
   ]
  },
  {
   "cell_type": "markdown",
   "metadata": {},
   "source": [
    "# Mean and Std of Each Feature of PD group (Testing Database)"
   ]
  },
  {
   "cell_type": "code",
   "execution_count": 10,
   "metadata": {
    "collapsed": false
   },
   "outputs": [
    {
     "name": "stdout",
     "output_type": "stream",
     "text": [
      "X_with contains 26 input features and class label but not with patient id (168, 27)\n",
      "(168, 26)\n",
      "(168,)\n"
     ]
    }
   ],
   "source": [
    "#Importing the Test Data \n",
    "df = pd.read_csv(\"E:\\PD Dataset From Laptop/test_data.txt\")\n",
    "X_first = numpy.array(df)\n",
    "X_test_withlabels = numpy.delete(X_first, 0,1)\n",
    "X_test = numpy.delete(X_test_withlabels, 26, 1)\n",
    "print(\"X_with contains 26 input features and class label but not with patient id\", X_test_withlabels.shape)   \n",
    "print(X_test.shape)\n",
    "Y_test = X_test_withlabels[:, 26]\n",
    "print(Y_test.shape)"
   ]
  },
  {
   "cell_type": "code",
   "execution_count": 11,
   "metadata": {
    "collapsed": false
   },
   "outputs": [
    {
     "name": "stdout",
     "output_type": "stream",
     "text": [
      "feautre no = 0    and mean ==== 0.6406845238095238   and std === 0.8219573484175625\n",
      "feautre no = 1    and mean ==== 4.2532142857142855e-05   and std === 5.5119339490639335e-05\n",
      "feautre no = 2    and mean ==== 0.33540476190476187   and std === 0.44877461781652916\n",
      "feautre no = 3    and mean ==== 0.37489285714285714   and std === 0.526804393938385\n",
      "feautre no = 4    and mean ==== 1.006220238095238   and std === 1.3463273076604827\n",
      "feautre no = 5    and mean ==== 5.162654761904762   and std === 3.0603054819274855\n",
      "feautre no = 6    and mean ==== 0.4743452380952381   and std === 0.2657218602244343\n",
      "feautre no = 7    and mean ==== 2.679363095238095   and std === 1.7942841304489363\n",
      "feautre no = 8    and mean ==== 3.044815476190476   and std === 1.6750731492196627\n",
      "feautre no = 9    and mean ==== 4.2102155690476195   and std === 2.0365289831094393\n",
      "feautre no = 10    and mean ==== 8.038089285714285   and std === 5.382765080759805\n",
      "feautre no = 11    and mean ==== 0.9626099047619048   and std === 0.04812374331707866\n",
      "feautre no = 12    and mean ==== 0.051847785714285714   and std === 0.08312395228119834\n",
      "feautre no = 13    and mean ==== 19.328845238095237   and std === 5.536947071167097\n",
      "feautre no = 14    and mean ==== 164.62343452380952   and std === 46.377861761610426\n",
      "feautre no = 15    and mean ==== 163.94402380952383   and std === 46.189177422849106\n",
      "feautre no = 16    and mean ==== 4.995404761904761   and std === 7.1137118904252326\n",
      "feautre no = 17    and mean ==== 151.56301785714285   and std === 49.154762736768596\n",
      "feautre no = 18    and mean ==== 173.39126785714285   and std === 48.8355436961735\n",
      "feautre no = 19    and mean ==== 157.60119047619048   and std === 46.90189100169786\n",
      "feautre no = 20    and mean ==== 155.88095238095238   and std === 47.16243580938036\n",
      "feautre no = 21    and mean ==== 0.006663308333333333   and std === 0.0021093358377081823\n",
      "feautre no = 22    and mean ==== 0.00024146547619047616   and std === 0.00034267989505480656\n",
      "feautre no = 23    and mean ==== 0.7672559523809523   and std === 2.3596367759149466\n",
      "feautre no = 24    and mean ==== 0.2261904761904762   and std === 0.8708396396607904\n",
      "feautre no = 25    and mean ==== 0.6583928571428571   and std === 2.29472462305682\n"
     ]
    }
   ],
   "source": [
    "from scipy import stats\n",
    "J = range(0, 26)\n",
    "for j in J:\n",
    "    mean_f = numpy.mean(X_test[:, j])\n",
    "    std_d = numpy.std(X_test[:, j])\n",
    "    print(\"feautre no =\", j, \"   and mean ====\", mean_f, \"  and std ===\", std_d)"
   ]
  },
  {
   "cell_type": "markdown",
   "metadata": {
    "collapsed": true
   },
   "source": [
    "# Combine P values across all the three goups"
   ]
  },
  {
   "cell_type": "code",
   "execution_count": 12,
   "metadata": {
    "collapsed": false
   },
   "outputs": [
    {
     "name": "stdout",
     "output_type": "stream",
     "text": [
      "feautre no = 0    P value ==== 0.00031600889055685434\n",
      "feautre no = 1    P value ==== 0.009070010600680705\n",
      "feautre no = 2    P value ==== 0.007174164225483645\n",
      "feautre no = 3    P value ==== 0.005813441916341583\n",
      "feautre no = 4    P value ==== 0.007153151658888425\n",
      "feautre no = 5    P value ==== 0.006005561726118254\n",
      "feautre no = 6    P value ==== 0.0009916541438595055\n",
      "feautre no = 7    P value ==== 0.03947123021695291\n",
      "feautre no = 8    P value ==== 0.007262216370493356\n",
      "feautre no = 9    P value ==== 0.0014935897601650282\n",
      "feautre no = 10    P value ==== 0.039471380774429715\n",
      "feautre no = 11    P value ==== 0.0013794854862141514\n",
      "feautre no = 12    P value ==== 0.0003181299499321334\n",
      "feautre no = 13    P value ==== 0.01346190532440859\n",
      "feautre no = 14    P value ==== 0.9683149057478564\n",
      "feautre no = 15    P value ==== 0.9289661203709598\n",
      "feautre no = 16    P value ==== 1.2528098507414338e-07\n",
      "feautre no = 17    P value ==== 0.8725405684626488\n",
      "feautre no = 18    P value ==== 0.05049079932299938\n",
      "feautre no = 19    P value ==== 2.100550847968264e-07\n",
      "feautre no = 20    P value ==== 2.2357828571201507e-07\n",
      "feautre no = 21    P value ==== 0.9588697381114313\n",
      "feautre no = 22    P value ==== 1.8189776031804354e-06\n",
      "feautre no = 23    P value ==== 8.97116907468022e-10\n",
      "feautre no = 24    P value ==== 0.22981131127211918\n",
      "feautre no = 25    P value ==== 0.23496992610209855\n"
     ]
    }
   ],
   "source": [
    "J = range(0, 26)\n",
    "for j in J:\n",
    "    data1 = X_H_Train[:, j]\n",
    "    data2 = X_test[:, j]\n",
    "    data3 = X_PD_Train[:, j]\n",
    "    stat, p = kruskal(data1, data2, data3)\n",
    "    print(\"feautre no =\", j, \"   P value ====\", p)"
   ]
  },
  {
   "cell_type": "code",
   "execution_count": null,
   "metadata": {
    "collapsed": true
   },
   "outputs": [],
   "source": []
  }
 ],
 "metadata": {
  "anaconda-cloud": {},
  "kernelspec": {
   "display_name": "Python [default]",
   "language": "python",
   "name": "python3"
  }
 },
 "nbformat": 4,
 "nbformat_minor": 1
}
